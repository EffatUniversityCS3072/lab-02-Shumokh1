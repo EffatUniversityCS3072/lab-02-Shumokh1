{
 "cells": [
  {
   "cell_type": "markdown",
   "id": "582fd51e",
   "metadata": {},
   "source": [
    "# Lab 2: numpy\n",
    "\n",
    "#### Practice Exercise 1\n",
    "\n",
    "Create the following NumPy arrays: \n",
    "1. A 1-D array called zeros having 10 elements and all the elements are set to zero. \n",
    "2. A 1-D array called vowels having the elements ‘a’, ‘e’, ‘i’, ‘o’ and ‘u’. \n",
    "3. A 2-D array called ones having 2 rows and 5 columns and all the elements are set to 1 and dtype as int. \n",
    "4. Use nested Python lists to create a 2-D array called myarray1 having 3 rows and 3 columns and store the following data: 2.7,  0,  -2,  3.4,  10.6,  0,  -19 99.9 13 \n",
    "5. A 2-D array called myarray2 using arange() having 3 rows and 5 columns with start value = 4, step size 4 and dtype as float\n"
   ]
  },
  {
   "cell_type": "code",
   "execution_count": 2,
   "id": "9195d139",
   "metadata": {},
   "outputs": [
    {
     "name": "stdout",
     "output_type": "stream",
     "text": [
      "[0 0 0 0 0 0 0 0 0 0]\n",
      "['a' 'e' 'o' 'i' 'u']\n",
      "[[1 1 1 1 1]\n",
      " [1 1 1 1 1]]\n",
      "[[1 1 1 1 1]\n",
      " [1 1 1 1 1]]\n",
      "[[  2.7   0.   -2. ]\n",
      " [  3.4  10.6   0. ]\n",
      " [-19.   99.9  13. ]]\n",
      "[[ 4.  8. 12. 16. 20.]\n",
      " [24. 28. 32. 36. 40.]\n",
      " [44. 48. 52. 56. 60.]]\n"
     ]
    }
   ],
   "source": [
    "# Write your answer here\n",
    "import numpy as np\n",
    "zeros=np.zeros(10, dtype=int)\n",
    "print(zeros)\n",
    "\n",
    "vowel=np.array(['a', 'e', 'o', 'i', 'u'])\n",
    "print(vowel)\n",
    "\n",
    "ones= np.array([[1,1,1,1,1],[1,1,1,1,1]])\n",
    "print(ones)\n",
    "\n",
    "one2= np.ones(10, dtype=int).reshape(2,5)\n",
    "print(one2)\n",
    "\n",
    "## numpy nested list means np.array\n",
    "myarray1=np.array([[2.7,  0,  -2],[3.4,  10.6,  0],[-19, 99.9, 13]]) #this is nested\n",
    "myarray1=np.array([2.7,  0,  -2, 3.4,  10.6,  0,-19, 99.9, 13]).reshape(3,3)\n",
    "print(myarray1)\n",
    "\n",
    "#start velue+ total value times step\n",
    "myarray2=np.arange(4,4+15*4,4, dtype= float).reshape(3,5)\n",
    "print(myarray2)"
   ]
  },
  {
   "cell_type": "markdown",
   "id": "2d3fc3a8",
   "metadata": {},
   "source": [
    "Using the arrays created in Question above, write NumPy commands for the following: \n",
    "1. Find the dimensions, shape, size, data type of the items and itemsize of arrays zeros, vowels, ones, myarray1 and myarray2. \n",
    "2. Reshape the array ones to have all the 10 elements in a single row. \n",
    "3. Display the 2nd and 3rd element of the array vowels. \n",
    "4. Display all elements in the 2nd and 3rd row of the array myarray1. \n",
    "5. Display the elements in the 1st and 2nd column of the array myarray1. \n",
    "6. Display the elements in the 1st column of the 2nd and 3rd row of the array myarray1. \n",
    "7. Reverse the array of vowels."
   ]
  },
  {
   "cell_type": "code",
   "execution_count": 4,
   "id": "fc69c3db",
   "metadata": {},
   "outputs": [
    {
     "data": {
      "text/plain": [
       "array(['u', 'i', 'o', 'e', 'a'], dtype='<U1')"
      ]
     },
     "execution_count": 4,
     "metadata": {},
     "output_type": "execute_result"
    }
   ],
   "source": [
    "#Write your answer here\n",
    "# 1\n",
    "# itemsize how many bytes ... for each element in the arrray takes 8 bytes \n",
    "zeros.shape, zeros.size , zeros.ndim, zeros.dtype, zeros.itemsize\n",
    "ones.shape, ones.size , ones.ndim, ones.dtype, ones.itemsize\n",
    "myarray1.shape, myarray1.size , myarray1.ndim, myarray1.dtype, myarray1.itemsize\n",
    "myarray2.shape, myarray2.size , myarray2.ndim, myarray2.dtype, myarray2.itemsize\n",
    "\n",
    "# 2\n",
    "ones=ones.reshape(1,10)\n",
    "ones\n",
    "\n",
    "# 3\n",
    "vowel[1:3]\n",
    "\n",
    "# 4\n",
    "myarray1[1:3,]#[row:col]\n",
    "myarray1[1:3,0:2]\n",
    "\n",
    "# 5\n",
    "myarray1[:, 0:2]#all rows, specific cols\n",
    "\n",
    "# 6\n",
    "myarray1[ 1:3 , 0:1 ]\n",
    "\n",
    "\n",
    "# 7\n",
    "vowel[:: -1]\n",
    "# from the begainning to the end and the step= -1\n",
    "# or use reverse\n",
    "\n",
    "# abc=np.array(['a', 'b', 'c', 'd', 'e'])\n",
    "# abc[:: -1]"
   ]
  },
  {
   "cell_type": "markdown",
   "id": "e1edb3bb",
   "metadata": {},
   "source": [
    "Using the arrays created in Question above, write NumPy commands for the following:\n",
    "1. Divide all elements of array ones by 3. \n",
    "2. Add the arrays myarray1 and myarray2. \n",
    "3. Subtract myarray1 from myarray2 and store the result in a new array. \n",
    "4. Multiply myarray1 and myarray2 elementwise. \n",
    "5. Do the matrix multiplication of myarray1 and myarray2 and store the result in a new array myarray3. \n",
    "6. Divide myarray1 by myarray2. \n",
    "7. Find the cube of all elements of myarray1 and divide the resulting array by 2. \n",
    "8. Find the square root of all elements of myarray2   and divide the resulting array by 2. The result  should be rounded to two places of decimals."
   ]
  },
  {
   "cell_type": "code",
   "execution_count": 6,
   "id": "3c933386",
   "metadata": {},
   "outputs": [
    {
     "data": {
      "text/plain": [
       "array([[1., 1., 2., 2., 2.],\n",
       "       [2., 3., 3., 3., 3.],\n",
       "       [3., 3., 4., 4., 4.]])"
      ]
     },
     "execution_count": 6,
     "metadata": {},
     "output_type": "execute_result"
    }
   ],
   "source": [
    "# Write your answer here\n",
    "# 1\n",
    "ones/3\n",
    "\n",
    "# 2\n",
    "myarray2[:, :3] +myarray1\n",
    "\n",
    "# 3\n",
    "\n",
    "\n",
    "# 7\n",
    "( myarray1**3 )/2\n",
    "\n",
    "# 8\n",
    "\n",
    "np.round(np.sqrt(myarray2)/2)\n"
   ]
  },
  {
   "cell_type": "markdown",
   "id": "d8aafc74",
   "metadata": {},
   "source": [
    "Using the arrays created above, write NumPy commands for the following: \n",
    "1. Find the transpose of ones and myarray2. \n",
    "2. Sort the array vowels in reverse. \n",
    "3. Sort the array myarray1 such that it brings the lowest value of the column in the first row and so on."
   ]
  },
  {
   "cell_type": "code",
   "execution_count": 8,
   "id": "573c6506",
   "metadata": {},
   "outputs": [
    {
     "data": {
      "text/plain": [
       "array([[-19. ,   0. ,  -2. ],\n",
       "       [  2.7,  10.6,   0. ],\n",
       "       [  3.4,  99.9,  13. ]])"
      ]
     },
     "execution_count": 8,
     "metadata": {},
     "output_type": "execute_result"
    }
   ],
   "source": [
    "# Write your answer here\n",
    "\n",
    "# 1\n",
    "myarray2.T\n",
    "# or\n",
    "np.transpose(myarray2)\n",
    "\n",
    "# 2 \n",
    "# vowel\n",
    "np.sort(myarray1)#sort row by row, but col no\n",
    "np.sort(myarray1, 1)#sort by row\n",
    "np.sort(myarray1, 0)#sort by col\n",
    "\n",
    "\n"
   ]
  },
  {
   "cell_type": "markdown",
   "id": "93546856",
   "metadata": {},
   "source": [
    "Create a 2-D array called myarray4 using arange() having 14 rows and 3 columns with start value = -1, step size 0.25 having. Split this array row wise into 3 equal parts and print the result. "
   ]
  },
  {
   "cell_type": "code",
   "execution_count": 10,
   "id": "441dd934",
   "metadata": {},
   "outputs": [
    {
     "data": {
      "text/plain": [
       "[array([[-1.  , -0.75, -0.5 ],\n",
       "        [-0.25,  0.  ,  0.25],\n",
       "        [ 0.5 ,  0.75,  1.  ],\n",
       "        [ 1.25,  1.5 ,  1.75],\n",
       "        [ 2.  ,  2.25,  2.5 ]]),\n",
       " array([[2.75, 3.  , 3.25],\n",
       "        [3.5 , 3.75, 4.  ],\n",
       "        [4.25, 4.5 , 4.75],\n",
       "        [5.  , 5.25, 5.5 ],\n",
       "        [5.75, 6.  , 6.25]]),\n",
       " array([[6.5 , 6.75, 7.  ],\n",
       "        [7.25, 7.5 , 7.75],\n",
       "        [8.  , 8.25, 8.5 ],\n",
       "        [8.75, 9.  , 9.25]])]"
      ]
     },
     "execution_count": 10,
     "metadata": {},
     "output_type": "execute_result"
    }
   ],
   "source": [
    "# Write your answer here\n",
    "# -1 + step size*num of elements\n",
    "myarray4 = np.arange(-1, -1 + 0.25*42 , 0.25).reshape(14, 3)\n",
    "# myarray4.size\n",
    "\n",
    "np.array_split(myarray4,3) #3 arrays\n",
    "\n"
   ]
  },
  {
   "cell_type": "markdown",
   "id": "c8cdbaff",
   "metadata": {},
   "source": [
    "Using the myarray4 created in the above questions, write commands for the following: \n",
    "1. Find the sum of all elements. \n",
    "2. Find the sum of all elements row wise\n",
    "3. Find the sum of all elements column wise. \n",
    "4. Find the max of all elements. \n",
    "5. Find the min of all elements in each row. \n",
    "6. Find the mean of all elements in each row. \n",
    "7. Find the standard deviation column wise."
   ]
  },
  {
   "cell_type": "code",
   "execution_count": 12,
   "id": "66af8b55",
   "metadata": {},
   "outputs": [
    {
     "data": {
      "text/plain": [
       "173.25"
      ]
     },
     "execution_count": 12,
     "metadata": {},
     "output_type": "execute_result"
    }
   ],
   "source": [
    "# Write your ansewr here\n",
    "#1\n",
    "np.sum(myarray4)\n",
    "\n",
    "# 2\n",
    "\n"
   ]
  },
  {
   "cell_type": "markdown",
   "id": "8d7e1dca",
   "metadata": {},
   "source": [
    "#### Practice Exercise 2\n",
    "Read the coordinates of the capital cities of the world from the country-capital-lat-long-population.csv file. Use NumPy to print the name and coordinates of the capital city closest to the Saudi Arabia capital - Riyadh.\n",
    "\n",
    "Note that:\n",
    "\n",
    "1. The Country Name for Saudi Arabia is given as Saudi Arabia in the data.\n",
    "2. The ‘closeness’ of capital cities from the Saudi Arabia capital is based on the Euclidean distance of their coordinates to those of the Saudi Arabia capital.\n",
    "\n",
    "\n",
    "Hints:\n",
    "\n",
    "1. Use read_html() from the Pandas library to read the table.\n",
    "2. Use the to_numpy() function of the Pandas DataFrame class to convert a DataFrame to a Numpy array\n",
    "3. Use broadcasting to compute the euclidean distance of capital cities from Riyadh."
   ]
  },
  {
   "cell_type": "code",
   "execution_count": 18,
   "id": "ab6b9725",
   "metadata": {},
   "outputs": [
    {
     "name": "stdout",
     "output_type": "stream",
     "text": [
      "Requirement already satisfied: html5lib in /opt/anaconda3/lib/python3.12/site-packages (1.1)\n",
      "Requirement already satisfied: six>=1.9 in /opt/anaconda3/lib/python3.12/site-packages (from html5lib) (1.16.0)\n",
      "Requirement already satisfied: webencodings in /opt/anaconda3/lib/python3.12/site-packages (from html5lib) (0.5.1)\n",
      "Note: you may need to restart the kernel to use updated packages.\n"
     ]
    }
   ],
   "source": [
    "pip install html5lib\n"
   ]
  },
  {
   "cell_type": "code",
   "execution_count": 25,
   "id": "be018c4b-5405-44e5-b31a-8c171bae8803",
   "metadata": {},
   "outputs": [
    {
     "data": {
      "text/html": [
       "<div>\n",
       "<style scoped>\n",
       "    .dataframe tbody tr th:only-of-type {\n",
       "        vertical-align: middle;\n",
       "    }\n",
       "\n",
       "    .dataframe tbody tr th {\n",
       "        vertical-align: top;\n",
       "    }\n",
       "\n",
       "    .dataframe thead th {\n",
       "        text-align: right;\n",
       "    }\n",
       "</style>\n",
       "<table border=\"1\" class=\"dataframe\">\n",
       "  <thead>\n",
       "    <tr style=\"text-align: right;\">\n",
       "      <th></th>\n",
       "      <th>Country</th>\n",
       "      <th>Capital City</th>\n",
       "      <th>Latitude</th>\n",
       "      <th>Longitude</th>\n",
       "      <th>Population</th>\n",
       "      <th>Capital Type</th>\n",
       "    </tr>\n",
       "  </thead>\n",
       "  <tbody>\n",
       "    <tr>\n",
       "      <th>0</th>\n",
       "      <td>Afghanistan</td>\n",
       "      <td>Kabul</td>\n",
       "      <td>34.5289</td>\n",
       "      <td>69.1725</td>\n",
       "      <td>4011770</td>\n",
       "      <td>Capital</td>\n",
       "    </tr>\n",
       "    <tr>\n",
       "      <th>1</th>\n",
       "      <td>Albania</td>\n",
       "      <td>Tiranë (Tirana)</td>\n",
       "      <td>41.3275</td>\n",
       "      <td>19.8189</td>\n",
       "      <td>475577</td>\n",
       "      <td>Capital</td>\n",
       "    </tr>\n",
       "    <tr>\n",
       "      <th>2</th>\n",
       "      <td>Algeria</td>\n",
       "      <td>El Djazaïr  (Algiers)</td>\n",
       "      <td>36.7525</td>\n",
       "      <td>3.0420</td>\n",
       "      <td>2693542</td>\n",
       "      <td>Capital</td>\n",
       "    </tr>\n",
       "    <tr>\n",
       "      <th>3</th>\n",
       "      <td>American Samoa</td>\n",
       "      <td>Pago Pago</td>\n",
       "      <td>-14.2781</td>\n",
       "      <td>-170.7025</td>\n",
       "      <td>48526</td>\n",
       "      <td>Capital</td>\n",
       "    </tr>\n",
       "    <tr>\n",
       "      <th>4</th>\n",
       "      <td>Andorra</td>\n",
       "      <td>Andorra la Vella</td>\n",
       "      <td>42.5078</td>\n",
       "      <td>1.5211</td>\n",
       "      <td>22614</td>\n",
       "      <td>Capital</td>\n",
       "    </tr>\n",
       "  </tbody>\n",
       "</table>\n",
       "</div>"
      ],
      "text/plain": [
       "          Country           Capital City  Latitude  Longitude  Population  \\\n",
       "0     Afghanistan                  Kabul   34.5289    69.1725     4011770   \n",
       "1         Albania        Tiranë (Tirana)   41.3275    19.8189      475577   \n",
       "2         Algeria  El Djazaïr  (Algiers)   36.7525     3.0420     2693542   \n",
       "3  American Samoa              Pago Pago  -14.2781  -170.7025       48526   \n",
       "4         Andorra       Andorra la Vella   42.5078     1.5211       22614   \n",
       "\n",
       "  Capital Type  \n",
       "0      Capital  \n",
       "1      Capital  \n",
       "2      Capital  \n",
       "3      Capital  \n",
       "4      Capital  "
      ]
     },
     "execution_count": 25,
     "metadata": {},
     "output_type": "execute_result"
    }
   ],
   "source": [
    "# Write your answer here\n",
    "import pandas as pd \n",
    "\n",
    "capitals= pd.read_csv(\"/Users/shomokh/Desktop/SENIOR1🥳🥳🥳/DS/country-capital-lat-long-population.csv\")\n",
    "capitals.head()"
   ]
  },
  {
   "cell_type": "code",
   "execution_count": null,
   "id": "f91d93c4-2b30-4fc5-9638-d492365a8272",
   "metadata": {},
   "outputs": [],
   "source": [
    "#NumPy arrays are faster and more efficient for numerical computations compared to Pandas DataFrames. Since you'll need to calculate Euclidean distances between coordinates, it's convenient to work with NumPy arrays for mathematical operations like subtraction, squaring, and summing."
   ]
  },
  {
   "cell_type": "code",
   "execution_count": 67,
   "id": "36b2c573-298a-4d11-ab7a-71ee62ad0007",
   "metadata": {},
   "outputs": [
    {
     "data": {
      "text/html": [
       "<div>\n",
       "<style scoped>\n",
       "    .dataframe tbody tr th:only-of-type {\n",
       "        vertical-align: middle;\n",
       "    }\n",
       "\n",
       "    .dataframe tbody tr th {\n",
       "        vertical-align: top;\n",
       "    }\n",
       "\n",
       "    .dataframe thead th {\n",
       "        text-align: right;\n",
       "    }\n",
       "</style>\n",
       "<table border=\"1\" class=\"dataframe\">\n",
       "  <thead>\n",
       "    <tr style=\"text-align: right;\">\n",
       "      <th></th>\n",
       "      <th>Country</th>\n",
       "      <th>Capital City</th>\n",
       "      <th>Latitude</th>\n",
       "      <th>Longitude</th>\n",
       "      <th>Population</th>\n",
       "      <th>Capital Type</th>\n",
       "    </tr>\n",
       "  </thead>\n",
       "  <tbody>\n",
       "    <tr>\n",
       "      <th>182</th>\n",
       "      <td>Saudi Arabia</td>\n",
       "      <td>Ar-Riyadh (Riyadh)</td>\n",
       "      <td>24.6905</td>\n",
       "      <td>46.7096</td>\n",
       "      <td>6906595</td>\n",
       "      <td>Capital</td>\n",
       "    </tr>\n",
       "  </tbody>\n",
       "</table>\n",
       "</div>"
      ],
      "text/plain": [
       "          Country        Capital City  Latitude  Longitude  Population  \\\n",
       "182  Saudi Arabia  Ar-Riyadh (Riyadh)   24.6905    46.7096     6906595   \n",
       "\n",
       "    Capital Type  \n",
       "182      Capital  "
      ]
     },
     "execution_count": 67,
     "metadata": {},
     "output_type": "execute_result"
    }
   ],
   "source": [
    "capitals[capitals[\"Country\"]== \"Saudi Arabia\"]"
   ]
  },
  {
   "cell_type": "code",
   "execution_count": 69,
   "id": "be1aeef6-1079-4e54-826e-6c0e29162322",
   "metadata": {},
   "outputs": [
    {
     "data": {
      "text/html": [
       "<div>\n",
       "<style scoped>\n",
       "    .dataframe tbody tr th:only-of-type {\n",
       "        vertical-align: middle;\n",
       "    }\n",
       "\n",
       "    .dataframe tbody tr th {\n",
       "        vertical-align: top;\n",
       "    }\n",
       "\n",
       "    .dataframe thead th {\n",
       "        text-align: right;\n",
       "    }\n",
       "</style>\n",
       "<table border=\"1\" class=\"dataframe\">\n",
       "  <thead>\n",
       "    <tr style=\"text-align: right;\">\n",
       "      <th></th>\n",
       "      <th>Country</th>\n",
       "      <th>Capital City</th>\n",
       "      <th>Latitude</th>\n",
       "      <th>Longitude</th>\n",
       "      <th>Population</th>\n",
       "      <th>Capital Type</th>\n",
       "    </tr>\n",
       "  </thead>\n",
       "  <tbody>\n",
       "    <tr>\n",
       "      <th>182</th>\n",
       "      <td>Saudi Arabia</td>\n",
       "      <td>Ar-Riyadh (Riyadh)</td>\n",
       "      <td>24.6905</td>\n",
       "      <td>46.7096</td>\n",
       "      <td>6906595</td>\n",
       "      <td>Capital</td>\n",
       "    </tr>\n",
       "  </tbody>\n",
       "</table>\n",
       "</div>"
      ],
      "text/plain": [
       "          Country        Capital City  Latitude  Longitude  Population  \\\n",
       "182  Saudi Arabia  Ar-Riyadh (Riyadh)   24.6905    46.7096     6906595   \n",
       "\n",
       "    Capital Type  \n",
       "182      Capital  "
      ]
     },
     "execution_count": 69,
     "metadata": {},
     "output_type": "execute_result"
    }
   ],
   "source": [
    "capitals[(capitals[\"Country\"]== \"Saudi Arabia\") & (capitals[\"Capital City\"]== \"Ar-Riyadh (Riyadh)\")]"
   ]
  },
  {
   "cell_type": "code",
   "execution_count": 75,
   "id": "55785a36-479f-4691-922d-547ebf558270",
   "metadata": {},
   "outputs": [],
   "source": [
    "#2\n",
    "# Extract Riyadh's coordinates\n",
    "riyadh = capitals[capitals['Capital City'] == 'Ar-Riyadh (Riyadh)'][['Latitude', 'Longitude']].to_numpy()\n",
    "\n",
    "# Extract coordinates of all other capital cities (excluding Riyadh)\n",
    "other_capitals = capitals[capitals['Capital City'] != 'Ar-Riyadh (Riyadh)'][['Latitude', 'Longitude']].to_numpy()\n",
    "\n"
   ]
  },
  {
   "cell_type": "code",
   "execution_count": 81,
   "id": "1ca26cc8-4fa5-4e38-a844-31a3e83ff334",
   "metadata": {},
   "outputs": [
    {
     "name": "stdout",
     "output_type": "stream",
     "text": [
      "The closest capital city to Riyadh is Al-Manamah (Manama).\n"
     ]
    }
   ],
   "source": [
    "#3\n",
    "# Now, use broadcasting to compute the Euclidean distance\n",
    "distances = np.sqrt(((other_capitals - riyadh) ** 2).sum(axis=1))\n",
    "\n",
    "# Find the index of the closest capital city\n",
    "#argmin: find the index of the minimum value\n",
    "closest_index = np.argmin(distances)\n",
    "\n",
    "\n",
    "#capitals.iloc[closest_index]: This accesses the row in the DataFrame corresponding to the index of the closest capital city.\n",
    "#['Capital']: This selects the value in the 'Capital' column for that row.\n",
    "closest_city = capitals.iloc[closest_index]['Capital City']\n",
    "print(f\"The closest capital city to Riyadh is {closest_city}.\")"
   ]
  },
  {
   "cell_type": "markdown",
   "id": "1fdbec05",
   "metadata": {},
   "source": [
    "#### Practical Exercise 2\n",
    "\n",
    "Use NumPy to:\n",
    "\n",
    "1. Print the names of the countries of the top 10 capital cities closest to the US capital - Washington DC.\n",
    "\n",
    "2. Create and print a NumPy array containing the coordinates of the top 10 cities."
   ]
  },
  {
   "cell_type": "code",
   "execution_count": 89,
   "id": "45046a85",
   "metadata": {},
   "outputs": [
    {
     "data": {
      "text/html": [
       "<div>\n",
       "<style scoped>\n",
       "    .dataframe tbody tr th:only-of-type {\n",
       "        vertical-align: middle;\n",
       "    }\n",
       "\n",
       "    .dataframe tbody tr th {\n",
       "        vertical-align: top;\n",
       "    }\n",
       "\n",
       "    .dataframe thead th {\n",
       "        text-align: right;\n",
       "    }\n",
       "</style>\n",
       "<table border=\"1\" class=\"dataframe\">\n",
       "  <thead>\n",
       "    <tr style=\"text-align: right;\">\n",
       "      <th></th>\n",
       "      <th>Country</th>\n",
       "      <th>Capital City</th>\n",
       "      <th>Latitude</th>\n",
       "      <th>Longitude</th>\n",
       "      <th>Population</th>\n",
       "      <th>Capital Type</th>\n",
       "    </tr>\n",
       "  </thead>\n",
       "  <tbody>\n",
       "    <tr>\n",
       "      <th>217</th>\n",
       "      <td>Uganda</td>\n",
       "      <td>Kampala</td>\n",
       "      <td>0.3163</td>\n",
       "      <td>32.5822</td>\n",
       "      <td>2986352</td>\n",
       "      <td>Capital</td>\n",
       "    </tr>\n",
       "    <tr>\n",
       "      <th>218</th>\n",
       "      <td>Ukraine</td>\n",
       "      <td>Kyiv (Kiev)</td>\n",
       "      <td>50.4454</td>\n",
       "      <td>30.5186</td>\n",
       "      <td>2956706</td>\n",
       "      <td>Capital</td>\n",
       "    </tr>\n",
       "    <tr>\n",
       "      <th>219</th>\n",
       "      <td>United Arab Emirates</td>\n",
       "      <td>Abu Zaby (Abu Dhabi)</td>\n",
       "      <td>24.4648</td>\n",
       "      <td>54.3618</td>\n",
       "      <td>1419699</td>\n",
       "      <td>Capital</td>\n",
       "    </tr>\n",
       "    <tr>\n",
       "      <th>220</th>\n",
       "      <td>United Kingdom</td>\n",
       "      <td>London</td>\n",
       "      <td>51.5085</td>\n",
       "      <td>-0.1257</td>\n",
       "      <td>9046485</td>\n",
       "      <td>Capital</td>\n",
       "    </tr>\n",
       "    <tr>\n",
       "      <th>221</th>\n",
       "      <td>United Republic of Tanzania</td>\n",
       "      <td>Dodoma</td>\n",
       "      <td>-6.1722</td>\n",
       "      <td>35.7395</td>\n",
       "      <td>261645</td>\n",
       "      <td>Capital</td>\n",
       "    </tr>\n",
       "    <tr>\n",
       "      <th>222</th>\n",
       "      <td>United States of America</td>\n",
       "      <td>Washington, D.C.</td>\n",
       "      <td>38.8951</td>\n",
       "      <td>-77.0364</td>\n",
       "      <td>5206593</td>\n",
       "      <td>Capital</td>\n",
       "    </tr>\n",
       "    <tr>\n",
       "      <th>223</th>\n",
       "      <td>United States Virgin Islands</td>\n",
       "      <td>Charlotte Amalie</td>\n",
       "      <td>18.3419</td>\n",
       "      <td>-64.9307</td>\n",
       "      <td>52322</td>\n",
       "      <td>Capital</td>\n",
       "    </tr>\n",
       "    <tr>\n",
       "      <th>224</th>\n",
       "      <td>Uruguay</td>\n",
       "      <td>Montevideo</td>\n",
       "      <td>-34.8335</td>\n",
       "      <td>-56.1674</td>\n",
       "      <td>1736989</td>\n",
       "      <td>Capital</td>\n",
       "    </tr>\n",
       "    <tr>\n",
       "      <th>225</th>\n",
       "      <td>Uzbekistan</td>\n",
       "      <td>Tashkent</td>\n",
       "      <td>41.2647</td>\n",
       "      <td>69.2163</td>\n",
       "      <td>2463969</td>\n",
       "      <td>Capital</td>\n",
       "    </tr>\n",
       "  </tbody>\n",
       "</table>\n",
       "</div>"
      ],
      "text/plain": [
       "                          Country          Capital City  Latitude  Longitude  \\\n",
       "217                        Uganda               Kampala    0.3163    32.5822   \n",
       "218                       Ukraine           Kyiv (Kiev)   50.4454    30.5186   \n",
       "219          United Arab Emirates  Abu Zaby (Abu Dhabi)   24.4648    54.3618   \n",
       "220                United Kingdom                London   51.5085    -0.1257   \n",
       "221   United Republic of Tanzania                Dodoma   -6.1722    35.7395   \n",
       "222      United States of America      Washington, D.C.   38.8951   -77.0364   \n",
       "223  United States Virgin Islands      Charlotte Amalie   18.3419   -64.9307   \n",
       "224                       Uruguay            Montevideo  -34.8335   -56.1674   \n",
       "225                    Uzbekistan              Tashkent   41.2647    69.2163   \n",
       "\n",
       "     Population Capital Type  \n",
       "217     2986352      Capital  \n",
       "218     2956706      Capital  \n",
       "219     1419699      Capital  \n",
       "220     9046485      Capital  \n",
       "221      261645      Capital  \n",
       "222     5206593      Capital  \n",
       "223       52322      Capital  \n",
       "224     1736989      Capital  \n",
       "225     2463969      Capital  "
      ]
     },
     "execution_count": 89,
     "metadata": {},
     "output_type": "execute_result"
    }
   ],
   "source": [
    "# Write your answer here\n",
    "capitals[capitals[\"Country\"].str.startswith(\"U\", na=False)]\n"
   ]
  },
  {
   "cell_type": "code",
   "execution_count": 95,
   "id": "b0036b6e-7afe-4eef-bc27-b008bb956dab",
   "metadata": {},
   "outputs": [
    {
     "data": {
      "text/html": [
       "<div>\n",
       "<style scoped>\n",
       "    .dataframe tbody tr th:only-of-type {\n",
       "        vertical-align: middle;\n",
       "    }\n",
       "\n",
       "    .dataframe tbody tr th {\n",
       "        vertical-align: top;\n",
       "    }\n",
       "\n",
       "    .dataframe thead th {\n",
       "        text-align: right;\n",
       "    }\n",
       "</style>\n",
       "<table border=\"1\" class=\"dataframe\">\n",
       "  <thead>\n",
       "    <tr style=\"text-align: right;\">\n",
       "      <th></th>\n",
       "      <th>Country</th>\n",
       "      <th>Capital City</th>\n",
       "      <th>Latitude</th>\n",
       "      <th>Longitude</th>\n",
       "      <th>Population</th>\n",
       "      <th>Capital Type</th>\n",
       "    </tr>\n",
       "  </thead>\n",
       "  <tbody>\n",
       "    <tr>\n",
       "      <th>222</th>\n",
       "      <td>United States of America</td>\n",
       "      <td>Washington, D.C.</td>\n",
       "      <td>38.8951</td>\n",
       "      <td>-77.0364</td>\n",
       "      <td>5206593</td>\n",
       "      <td>Capital</td>\n",
       "    </tr>\n",
       "  </tbody>\n",
       "</table>\n",
       "</div>"
      ],
      "text/plain": [
       "                      Country      Capital City  Latitude  Longitude  \\\n",
       "222  United States of America  Washington, D.C.   38.8951   -77.0364   \n",
       "\n",
       "     Population Capital Type  \n",
       "222     5206593      Capital  "
      ]
     },
     "execution_count": 95,
     "metadata": {},
     "output_type": "execute_result"
    }
   ],
   "source": [
    "capitals[(capitals[\"Country\"]== \"United States of America\") & (capitals[\"Capital City\"]== \"Washington, D.C.\")]"
   ]
  },
  {
   "cell_type": "code",
   "execution_count": 97,
   "id": "68715064-6ff6-4f9d-a5a0-b6b1910ac2d0",
   "metadata": {},
   "outputs": [],
   "source": [
    "# Extract washington's coordinates\n",
    "washington = capitals[capitals['Capital City'] == 'Washington, D.C.'][['Latitude', 'Longitude']].to_numpy()\n",
    "\n",
    "# Extract coordinates of all other capital cities (excluding Riyadh)\n",
    "other_capitals = capitals[capitals['Capital City'] != 'Washington, D.C.'][['Latitude', 'Longitude']].to_numpy()\n",
    "\n"
   ]
  },
  {
   "cell_type": "code",
   "execution_count": 99,
   "id": "698cf4e2-8fb9-4e86-8f2f-1aee44864b9b",
   "metadata": {},
   "outputs": [
    {
     "name": "stdout",
     "output_type": "stream",
     "text": [
      "The closest capital city to Riyadh is Ar-Riyadh (Riyadh).\n"
     ]
    }
   ],
   "source": [
    "# Now, use broadcasting to compute the Euclidean distance\n",
    "distances = np.sqrt(((other_capitals - riyadh) ** 2).sum(axis=1))\n",
    "\n",
    "# Find the index of the closest capital city\n",
    "#argmin: find the index of the minimum value\n",
    "closest_index = np.argmin(distances)\n",
    "\n",
    "\n",
    "#capitals.iloc[closest_index]: This accesses the row in the DataFrame corresponding to the index of the closest capital city.\n",
    "#['Capital']: This selects the value in the 'Capital' column for that row.\n",
    "closest_city = capitals.iloc[closest_index]['Capital City']\n",
    "print(f\"The closest capital city to Washington is {closest_city}.\")"
   ]
  },
  {
   "cell_type": "code",
   "execution_count": null,
   "id": "69001f0c-9565-4715-8071-c0fc2958f107",
   "metadata": {},
   "outputs": [],
   "source": []
  }
 ],
 "metadata": {
  "kernelspec": {
   "display_name": "Python 3 (ipykernel)",
   "language": "python",
   "name": "python3"
  },
  "language_info": {
   "codemirror_mode": {
    "name": "ipython",
    "version": 3
   },
   "file_extension": ".py",
   "mimetype": "text/x-python",
   "name": "python",
   "nbconvert_exporter": "python",
   "pygments_lexer": "ipython3",
   "version": "3.12.4"
  }
 },
 "nbformat": 4,
 "nbformat_minor": 5
}
